{
 "cells": [
  {
   "cell_type": "markdown",
   "metadata": {},
   "source": [
    "# Loops de FOR\n",
    "\n",
    "o loop de **for** é mais comum que o **while**\n",
    "\n",
    "**for** é um loop que passa por elementos de uma lista ou array unidimensional\n",
    "\n",
    "um bloco de instruções dentro de um **for** é identada na mesma forma de um **if**\n",
    "\n",
    "as instruções **break** e **continue** podem ser usadas como nos loops e **while**\n",
    "\n"
   ]
  },
  {
   "cell_type": "code",
   "execution_count": 5,
   "metadata": {
    "collapsed": false
   },
   "outputs": [
    {
     "name": "stdout",
     "output_type": "stream",
     "text": [
      "1\n",
      "2 \n",
      "\n",
      "3\n",
      "6 \n",
      "\n",
      "5\n",
      "10 \n",
      "\n",
      "terminou\n"
     ]
    }
   ],
   "source": [
    "r = [ 1, 3, 5 ]\n",
    "for n in r:         # Para n em r faça:\n",
    "    print n\n",
    "    print 2*n , '\\n'\n",
    "print \"terminou\"\n"
   ]
  },
  {
   "cell_type": "markdown",
   "metadata": {},
   "source": [
    "O uso mais comum do loop **for** é executar um conjunto de instruções um dado numero de vezes\n",
    "\n",
    "Para isso Python tem uma função especial chamada **range** que cria um iterador de um determinado tamanho\n"
   ]
  },
  {
   "cell_type": "code",
   "execution_count": 7,
   "metadata": {
    "collapsed": false
   },
   "outputs": [
    {
     "name": "stdout",
     "output_type": "stream",
     "text": [
      "[0, 1, 2, 3, 4]\n",
      "[0, 1, 2, 3, 4] <type 'list'>\n"
     ]
    }
   ],
   "source": [
    "print range(5)\n",
    "\n",
    "a = range(5)\n",
    "\n",
    "print a, type(a)"
   ]
  },
  {
   "cell_type": "code",
   "execution_count": 8,
   "metadata": {
    "collapsed": false
   },
   "outputs": [
    {
     "name": "stdout",
     "output_type": "stream",
     "text": [
      "Olá de novo\n",
      "Olá de novo\n",
      "Olá de novo\n",
      "Olá de novo\n",
      "Olá de novo\n"
     ]
    }
   ],
   "source": [
    "r = range(5)\n",
    "for n in r:\n",
    "    print(\"Olá de novo\")\n"
   ]
  },
  {
   "cell_type": "code",
   "execution_count": 10,
   "metadata": {
    "collapsed": false
   },
   "outputs": [
    {
     "name": "stdout",
     "output_type": "stream",
     "text": [
      "0\n",
      "1\n",
      "4\n",
      "9\n",
      "16\n"
     ]
    }
   ],
   "source": [
    "for n in range(5):\n",
    "    print n**2\n"
   ]
  },
  {
   "cell_type": "markdown",
   "metadata": {},
   "source": [
    "a função range pode ser usada de algumas formas importantes:"
   ]
  },
  {
   "cell_type": "code",
   "execution_count": 12,
   "metadata": {
    "collapsed": false
   },
   "outputs": [
    {
     "name": "stdout",
     "output_type": "stream",
     "text": [
      "[0, 1, 2, 3, 4]\n",
      "[2, 3, 4, 5, 6, 7]\n",
      "[2, 5, 8, 11, 14, 17]\n",
      "[20, 17, 14, 11, 8, 5]\n"
     ]
    }
   ],
   "source": [
    "print range(5)           # 5 elementos de 0 a 5-1\n",
    "print range(2,8)         # elementos de 2 a 8-1\n",
    "print range(2,20,3)      # elementos de 2 a 20-1 espaçados de 3 em 3\n",
    "print range(20,2,-3)     # elementos de 20 a 2 espaçados de -3 em -3 \n"
   ]
  },
  {
   "cell_type": "code",
   "execution_count": 15,
   "metadata": {
    "collapsed": false
   },
   "outputs": [
    {
     "name": "stdout",
     "output_type": "stream",
     "text": [
      "0\n",
      "1\n",
      "2\n",
      "3\n",
      "4\n"
     ]
    }
   ],
   "source": [
    "# a construção abaixo não funciona em Python 3 pois o resultado da divisão é sempre um float\n",
    "p = 10\n",
    "q = 2\n",
    "for n in range(p/q):\n",
    "    print n"
   ]
  },
  {
   "cell_type": "markdown",
   "metadata": {},
   "source": [
    "**numpy** também tem uma funão semelhante chamada **arange**\n",
    "\n",
    "ela é semlhante mas cria um array e não uma lista, e pode ser do tipo float ou inteiro"
   ]
  },
  {
   "cell_type": "code",
   "execution_count": 18,
   "metadata": {
    "collapsed": false
   },
   "outputs": [
    {
     "name": "stdout",
     "output_type": "stream",
     "text": [
      "[1 3 5 7]\n",
      "[ 1.  3.  5.  7.]\n"
     ]
    }
   ],
   "source": [
    "from numpy import arange\n",
    "print arange(1,8,2)\n",
    "print arange(1,8,2.)"
   ]
  },
  {
   "cell_type": "markdown",
   "metadata": {},
   "source": [
    "**numpy** também permite dividir um intervalo em um dado numero de pedaços com a função **linspace**"
   ]
  },
  {
   "cell_type": "code",
   "execution_count": 20,
   "metadata": {
    "collapsed": false
   },
   "outputs": [
    {
     "name": "stdout",
     "output_type": "stream",
     "text": [
      "[ 2.          2.08888889  2.17777778  2.26666667  2.35555556  2.44444444\n",
      "  2.53333333  2.62222222  2.71111111  2.8       ]\n"
     ]
    }
   ],
   "source": [
    "from numpy import linspace\n",
    "\n",
    "print linspace(2.0,2.8,10)"
   ]
  },
  {
   "cell_type": "markdown",
   "metadata": {},
   "source": [
    "## Funções\n",
    "\n",
    "Python permite aos usuários definir suas funções\n",
    "\n",
    "veja o exemplo de calcular um produtório:\n",
    "\n",
    "$$ n! = \\displaystyle\\prod_{k=1}^{n} k $$"
   ]
  },
  {
   "cell_type": "code",
   "execution_count": 41,
   "metadata": {
    "collapsed": false
   },
   "outputs": [
    {
     "name": "stdout",
     "output_type": "stream",
     "text": [
      "entre com n: 10\n",
      "3628800.0\n"
     ]
    }
   ],
   "source": [
    "n = int(input('entre com n: '))\n",
    "f = 1.0\n",
    "for k in range(1,n+1):\n",
    "    f *= k\n",
    "print f"
   ]
  },
  {
   "cell_type": "markdown",
   "metadata": {},
   "source": [
    "se quisermos reutilizar a rotina acima é interessante criar uma função\n",
    "\n",
    "note atentamente a estrutura de identação\n",
    "\n",
    "a sintaxe é:"
   ]
  },
  {
   "cell_type": "code",
   "execution_count": 27,
   "metadata": {
    "collapsed": false
   },
   "outputs": [
    {
     "name": "stdout",
     "output_type": "stream",
     "text": [
      "3628800.0\n"
     ]
    }
   ],
   "source": [
    "def fatorial(n):           # define o nome da função e os parametros de entrada\n",
    "                            \n",
    "    f = 1.0                     # inicio do bloco de instruções\n",
    "    for k in range(1,n+1):\n",
    "        f *= k                  # fim do bloco de instruções\n",
    "    \n",
    "    return f                    # retorna um valor\n",
    "\n",
    "\n",
    "# podemos chamar a função com:\n",
    "\n",
    "a = fatorial(10)\n",
    "\n",
    "print a\n"
   ]
  },
  {
   "cell_type": "markdown",
   "metadata": {},
   "source": [
    "um ponto importante é que variáveis criadas dentro de uma função não funcionam fora dela\n",
    "\n",
    "funções podem ter vários parametros:\n"
   ]
  },
  {
   "cell_type": "code",
   "execution_count": 29,
   "metadata": {
    "collapsed": false
   },
   "outputs": [
    {
     "name": "stdout",
     "output_type": "stream",
     "text": [
      "2.5\n"
     ]
    }
   ],
   "source": [
    "from numpy import cos,sin,sqrt\n",
    "\n",
    "def distance(r,theta,z):\n",
    "    x = r*cos(theta)\n",
    "    y = r*sin(theta)\n",
    "    d = sqrt(x**2+y**2+z**2)\n",
    "    return d\n",
    "\n",
    "print distance(2.0,0.1,-1.5)\n"
   ]
  },
  {
   "cell_type": "code",
   "execution_count": 1,
   "metadata": {
    "collapsed": false
   },
   "outputs": [
    {
     "name": "stdout",
     "output_type": "stream",
     "text": [
      "[[ 0.          0.99500417  2.86600947  5.52877014]\n",
      " [ 0.          0.09983342  0.88656062  3.02038089]] <type 'numpy.ndarray'>\n",
      "(2, 4)\n",
      "<type 'list'>\n"
     ]
    }
   ],
   "source": [
    "from numpy import array,cos,sin,sqrt\n",
    "\n",
    "# funções podem retornar listas, arrays \n",
    "\n",
    "def cartesian(r,theta):\n",
    "    x = r*cos(theta)\n",
    "    y = r*sin(theta)\n",
    "    position = array([x,y])\n",
    "    return position\n",
    "\n",
    "r = [0.,1., 3., 6.3]\n",
    "theta = [0., 0.1, 0.3, 0.5]\n",
    "\n",
    "res = cartesian(r,theta)\n",
    "\n",
    "print res, type(res)\n",
    "print res.shape\n",
    "print type(range(5))"
   ]
  },
  {
   "cell_type": "code",
   "execution_count": 2,
   "metadata": {
    "collapsed": false
   },
   "outputs": [
    {
     "name": "stdout",
     "output_type": "stream",
     "text": [
      "[ 0.          0.99500417  2.86600947  5.52877014] <type 'numpy.ndarray'>\n",
      "(4,)\n"
     ]
    }
   ],
   "source": [
    "from numpy import array,cos,sin,sqrt\n",
    "\n",
    "# funções podem retornar multiplos valores\n",
    "\n",
    "def cartesian(r,theta):\n",
    "    xc = r*cos(theta)\n",
    "    yc = r*sin(theta)\n",
    "    return xc,yc\n",
    "\n",
    "r = [0.,1., 3., 6.3]\n",
    "theta = [0., 0.1, 0.3, 0.5]\n",
    "\n",
    "x, y = cartesian(r,theta)        # note a alocação múltipla!\n",
    "\n",
    "print x, type(x)\n",
    "print y.shape"
   ]
  },
  {
   "cell_type": "markdown",
   "metadata": {},
   "source": [
    "funções não precisam retornar valores"
   ]
  },
  {
   "cell_type": "code",
   "execution_count": 40,
   "metadata": {
    "collapsed": false
   },
   "outputs": [
    {
     "name": "stdout",
     "output_type": "stream",
     "text": [
      "hello world!\n"
     ]
    }
   ],
   "source": [
    "def printa(s):\n",
    "    print s\n",
    "    \n",
    "printa('hello world!')"
   ]
  },
  {
   "cell_type": "markdown",
   "metadata": {},
   "source": [
    "voce pode importar suas funções salvas em um arquivo a parte usando o **import**"
   ]
  },
  {
   "cell_type": "markdown",
   "metadata": {},
   "source": [
    "## Exercício\n",
    "\n",
    "1 - Faça um programa que calcule a somatória:\n",
    "\n",
    "$\\displaystyle\\sum_{n=1}^{100} \\frac{1}{n}$\n",
    "\n",
    "2 - Faça um programa que calcule as primeiras 5 linhas das 3 principais séries de linhas do Hidrogenio (m=1,2,3), Lyman, Balmer e Paschen de acordo com a fórmula de Rydberg(https://en.wikipedia.org/wiki/Rydberg_formula):\n",
    "\n",
    "![alt text](https://upload.wikimedia.org/wikipedia/commons/thumb/b/b2/Hydrogen_transitions.svg/400px-Hydrogen_transitions.svg.png)\n",
    "\n",
    "$$\\frac{1}{\\lambda} = R \\left( \\frac{1}{m^2} - \\frac{1}{n^2} \\right)$$\n",
    "\n",
    "onde $R=1.097 \\times 10^{-2} nm^{-1}$ e m, n são numeros inteiros positivos. Para um dado valor de $m$, os comprimentos de onda $\\lambda$ de uma série são dados para valores n de modo que $n>m$"
   ]
  },
  {
   "cell_type": "code",
   "execution_count": null,
   "metadata": {
    "collapsed": true
   },
   "outputs": [],
   "source": []
  }
 ],
 "metadata": {
  "anaconda-cloud": {},
  "kernelspec": {
   "display_name": "Python [Root]",
   "language": "python",
   "name": "Python [Root]"
  },
  "language_info": {
   "codemirror_mode": {
    "name": "ipython",
    "version": 2
   },
   "file_extension": ".py",
   "mimetype": "text/x-python",
   "name": "python",
   "nbconvert_exporter": "python",
   "pygments_lexer": "ipython2",
   "version": "2.7.12"
  }
 },
 "nbformat": 4,
 "nbformat_minor": 0
}
